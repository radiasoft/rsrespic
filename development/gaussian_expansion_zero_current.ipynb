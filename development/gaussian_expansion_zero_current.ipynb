{
 "cells": [
  {
   "cell_type": "code",
   "execution_count": 1,
   "metadata": {},
   "outputs": [],
   "source": [
    "## Python package imports \n",
    "import numpy as np\n",
    "import matplotlib\n",
    "import scipy.integrate as sint\n",
    "import matplotlib.pyplot as plt\n",
    "\n",
    "## respic imports\n",
    "import solvers\n",
    "import particles\n",
    "import diagnostics\n",
    "import constants\n",
    "\n",
    "## constants \n",
    "q = constants.cgs_constants['q']\n",
    "c = constants.cgs_constants['c']\n",
    "m_e = constants.cgs_constants['m_e']\n",
    "m_p = constants.cgs_constants['m_p']\n",
    "pi = np.pi\n"
   ]
  },
  {
   "cell_type": "code",
   "execution_count": 2,
   "metadata": {},
   "outputs": [],
   "source": [
    "## Particle definitions and simulation setup\n",
    "sigma_x = 0.05\n",
    "Q = constants.charge_mks_to_cgs(1.0e-20)\n",
    "n_particles = 10000\n",
    "ds = 0.1\n",
    "s = 0\n",
    "\n",
    "\n",
    "## This is where we initialize a gaussian distribuiton\n",
    "distribution = particles.distribution(N = n_particles)\n",
    "distribution.construct_uniform_guassian_2D(sigma_x = sigma_x, sigma_y = sigma_x,\n",
    "                                          sigma_xp = sigma_x, sigma_yp = sigma_x)\n",
    "\n",
    "## Particle distributions\n",
    "# The first beam is the one that uses the drift map\n",
    "my_gaussian_beam = particles.particles_2D_tent(distribution, bunch_charge = Q, species_mass = m_p)\n",
    "\n",
    "# This is for the matrix map\n",
    "my_gaussian_beam_matrix = distribution\n",
    "\n",
    "## Diagnostics \n",
    "respic_diag = diagnostics.bunch_statistics()\n",
    "matrix_diag = diagnostics.bunch_statistics(divergence_coordinates = True)\n"
   ]
  },
  {
   "cell_type": "code",
   "execution_count": 3,
   "metadata": {},
   "outputs": [],
   "source": [
    "## Load the maps\n",
    "maps = solvers.symplectic_maps()\n",
    "\n",
    "## Define steppers \n",
    "def step(particles, ds = ds):\n",
    "    maps.drift(particles, ds = ds)\n",
    "\n",
    "def step_matrix(particles, ds = ds):\n",
    "    particles.x = particles.x + ds * particles.xp\n",
    "    particles.y = particles.y + ds * particles.yp\n"
   ]
  },
  {
   "cell_type": "code",
   "execution_count": 4,
   "metadata": {},
   "outputs": [],
   "source": [
    "## Here we run the simulation, 100 steps using the stepper functions defined in the previous block\n",
    "\n",
    "respic_diag.update(s, my_gaussian_beam)\n",
    "matrix_diag.update(s, my_gaussian_beam_matrix)\n",
    "\n",
    "k = 0\n",
    "\n",
    "while k < 100:\n",
    "\n",
    "    step(my_gaussian_beam)\n",
    "    step_matrix(my_gaussian_beam_matrix)\n",
    "    \n",
    "    s = s + ds\n",
    "    \n",
    "    respic_diag.update(s, my_gaussian_beam)\n",
    "    matrix_diag.update(s, my_gaussian_beam_matrix)\n",
    "        \n",
    "    k = k + 1"
   ]
  },
  {
   "cell_type": "code",
   "execution_count": 5,
   "metadata": {},
   "outputs": [
    {
     "data": {
      "image/png": "[encoded data removed]",
      "text/plain": [
       "<Figure size 432x288 with 1 Axes>"
      ]
     },
     "metadata": {},
     "output_type": "display_data"
    }
   ],
   "source": [
    "## Plotting \n",
    "\n",
    "x_key = 's'\n",
    "y_key = 'rms_x'\n",
    "\n",
    "plt.figure()\n",
    "matrix_diag.plot(x_key, y_key)\n",
    "respic_diag.plot(x_key, y_key)\n",
    "plt.xlabel(x_key)\n",
    "plt.ylabel(y_key)\n",
    "plt.legend(['matrix', 'respic'])\n",
    "plt.show()"
   ]
  },
  {
   "cell_type": "code",
   "execution_count": null,
   "metadata": {},
   "outputs": [],
   "source": []
  }
 ],
 "metadata": {
  "kernelspec": {
   "display_name": "Python 2",
   "language": "python",
   "name": "python2"
  },
  "language_info": {
   "codemirror_mode": {
    "name": "ipython",
    "version": 2
   },
   "file_extension": ".py",
   "mimetype": "text/x-python",
   "name": "python",
   "nbconvert_exporter": "python",
   "pygments_lexer": "ipython2",
   "version": "2.7.15"
  }
 },
 "nbformat": 4,
 "nbformat_minor": 2
}
