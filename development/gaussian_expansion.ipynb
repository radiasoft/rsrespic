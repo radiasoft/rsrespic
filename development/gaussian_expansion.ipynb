{
 "cells": [
  {
   "cell_type": "code",
   "execution_count": 1,
   "metadata": {},
   "outputs": [],
   "source": [
    "## Python package imports \n",
    "import numpy as np\n",
    "import matplotlib\n",
    "import os\n",
    "import scipy.integrate as sint\n",
    "import matplotlib.pyplot as plt\n",
    "\n",
    "## Other toolboxes\n",
    "import beam_analysis\n",
    "\n",
    "## respic imports\n",
    "import constants\n",
    "import diagnostics\n",
    "import fields\n",
    "import particles\n",
    "import solvers\n",
    "\n",
    "## constants \n",
    "q = constants.cgs_constants['q']\n",
    "c = constants.cgs_constants['c']\n",
    "m_e = constants.cgs_constants['m_e']\n",
    "m_p = constants.cgs_constants['m_p']\n",
    "pi = np.pi\n"
   ]
  },
  {
   "cell_type": "code",
   "execution_count": 2,
   "metadata": {},
   "outputs": [],
   "source": [
    "## Particle definitions and simulation setup\n",
    "sigma_x = 0.2\n",
    "sigma_xp = sigma_x /100.\n",
    "Q_mks = 1.0e-9\n",
    "Q = constants.charge_mks_to_cgs(Q_mks)\n",
    "n_particles = 10000\n",
    "ds = 1.0\n",
    "s = 0\n",
    "E = 200.0e6\n",
    "\n",
    "## This is where we set the domain size \n",
    "L_0 = 20. * sigma_x ## Half the domain size\n",
    "L_min = L_0 / 20 ## minimum wavelength to resolve\n",
    "\n",
    "## This is where we initialize a gaussian distribuiton\n",
    "distribution = particles.distribution(N = n_particles)\n",
    "distribution.construct_uniform_guassian_2D(sigma_x = sigma_x, sigma_y = sigma_x,\n",
    "                                          sigma_xp = sigma_xp, sigma_yp = sigma_xp)\n",
    "\n",
    "## Particle distributions\n",
    "# The first beam is the one that uses the drift map\n",
    "my_gaussian_beam = particles.particles_2D_delta(distribution, bunch_charge = Q, \n",
    "            species_mass = m_p, K_e = E)\n",
    "\n",
    "# This is for the matrix map\n",
    "my_gaussian_beam_matrix = distribution\n",
    "\n",
    "## Define the fields \n",
    "my_fields = fields.cartesian_2D(L_x = L_0, L_y = L_0,\n",
    "    L_x_min = L_min, L_y_min = L_min)\n",
    "\n",
    "## This is where we instantiate the solver\n",
    "field_solver = solvers.field_solver_2D()\n",
    "my_fields.register_solver(field_solver)\n",
    "\n",
    "## Diagnostics \n",
    "respic_diag = diagnostics.bunch_statistics()\n",
    "matrix_diag = diagnostics.bunch_statistics(divergence_coordinates = True)\n"
   ]
  },
  {
   "cell_type": "code",
   "execution_count": 3,
   "metadata": {},
   "outputs": [],
   "source": [
    "## Load the maps\n",
    "maps = solvers.symplectic_maps()\n",
    "\n",
    "## Define steppers \n",
    "def step(fields, particles, ds = ds):\n",
    "    maps.drift(particles, ds = ds / 2.)\n",
    "    maps.space_charge_kick_2D(fields, particles, ds = ds)\n",
    "    maps.drift(particles, ds = ds / 2.)\n",
    "\n",
    "def step_matrix(particles, ds = ds):\n",
    "    particles.x = particles.x + ds * particles.xp\n",
    "    particles.y = particles.y + ds * particles.yp\n"
   ]
  },
  {
   "cell_type": "code",
   "execution_count": 4,
   "metadata": {},
   "outputs": [],
   "source": [
    "## Here we run the simulation, 100 steps using the stepper functions defined in the previous block\n",
    "\n",
    "respic_diag.update(s, my_gaussian_beam)\n",
    "matrix_diag.update(s, my_gaussian_beam_matrix)\n",
    "\n",
    "k = 0\n",
    "\n",
    "while k < 100:\n",
    "\n",
    "    step(my_fields, my_gaussian_beam)\n",
    "    step_matrix(my_gaussian_beam_matrix)\n",
    "    \n",
    "    s = s + ds\n",
    "    \n",
    "    respic_diag.update(s, my_gaussian_beam)\n",
    "    matrix_diag.update(s, my_gaussian_beam_matrix)\n",
    "        \n",
    "    k = k + 1"
   ]
  },
  {
   "cell_type": "code",
   "execution_count": 19,
   "metadata": {},
   "outputs": [],
   "source": [
    "freq = 1.3e9\n",
    "sigma_z = 1.0 # 10 cm sigma z -> 1 cm beam \n",
    "z_max = sigma_z / 10. \n",
    "Q_opal = Q_mks * z_max * 2 * 100\n",
    "I_beam = Q_opal * freq\n",
    "\n",
    "sigma_px = sigma_xp * my_gaussian_beam.pz / my_gaussian_beam.weight / my_gaussian_beam.m_0 / c\n",
    "sigma_py = sigma_xp * my_gaussian_beam.pz / my_gaussian_beam.weight / my_gaussian_beam.m_0 / c\n",
    "\n",
    "\n",
    "\n",
    "parameter_names = ['beam_gamma', 'beam_current_parameter', 'sigma_x', 'sigma_px', 'sigma_y', 'sigma_py', 'sigma_z']\n",
    "parameter_values = [my_gaussian_beam.gamma, I_beam, sigma_x/100., sigma_px, sigma_x/100., sigma_py, sigma_z]\n",
    "\n",
    "beam_analysis.generate_opal('gaussian_drift.txt', 'gaussian_drift.in',\n",
    "                            parameter_names, parameter_values)\n"
   ]
  },
  {
   "cell_type": "code",
   "execution_count": 20,
   "metadata": {},
   "outputs": [],
   "source": [
    "data = beam_analysis.read_sdds_columns('gaussian_drift.stat', ['s', 'rms_x', 'rms_y'])"
   ]
  },
  {
   "cell_type": "code",
   "execution_count": 21,
   "metadata": {},
   "outputs": [
    {
     "data": {
      "image/png": "[encoded data removed]",
      "text/plain": [
       "<Figure size 432x288 with 1 Axes>"
      ]
     },
     "metadata": {},
     "output_type": "display_data"
    }
   ],
   "source": [
    "x_key = 's'\n",
    "y_key = 'rms_x'\n",
    "\n",
    "plt.figure()\n",
    "plt.plot(data.s * 100, data.rms_x * 100.)\n",
    "respic_diag.plot(x_key, y_key)\n",
    "matrix_diag.plot(x_key, y_key)\n",
    "plt.legend(['opal', 'respic', 'matrix'])\n",
    "plt.xlabel(x_key + ' [cm]')\n",
    "plt.ylabel(y_key + ' [cm]')\n",
    "plt.savefig('first_benchmark.pdf')\n",
    "#plt.xlim([0,40])\n",
    "#plt.ylim([0,0.02])\n",
    "plt.show()"
   ]
  },
  {
   "cell_type": "code",
   "execution_count": 17,
   "metadata": {},
   "outputs": [
    {
     "data": {
      "text/plain": [
       "4.072579242885741"
      ]
     },
     "execution_count": 17,
     "metadata": {},
     "output_type": "execute_result"
    }
   ],
   "source": [
    "respic_diag.get_parameter('ex_rms')[0]*10*1000"
   ]
  },
  {
   "cell_type": "code",
   "execution_count": null,
   "metadata": {},
   "outputs": [],
   "source": [
    " "
   ]
  }
 ],
 "metadata": {
  "kernelspec": {
   "display_name": "Python 2",
   "language": "python",
   "name": "py2"
  },
  "language_info": {
   "codemirror_mode": {
    "name": "ipython",
    "version": 2
   },
   "file_extension": ".py",
   "mimetype": "text/x-python",
   "name": "python",
   "nbconvert_exporter": "python",
   "pygments_lexer": "ipython2",
   "version": "2.7.14"
  }
 },
 "nbformat": 4,
 "nbformat_minor": 2
}
