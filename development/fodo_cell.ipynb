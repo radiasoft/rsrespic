{
 "cells": [
  {
   "cell_type": "code",
   "execution_count": 48,
   "metadata": {},
   "outputs": [],
   "source": [
    "import numpy as np\n",
    "import matplotlib\n",
    "import scipy.integrate as sint\n",
    "import matplotlib.pyplot as plt\n",
    "\n",
    "pi = np.pi\n",
    "\n",
    "\n"
   ]
  },
  {
   "cell_type": "code",
   "execution_count": 49,
   "metadata": {},
   "outputs": [],
   "source": [
    "import constants\n",
    "\n",
    "q = constants.cgs_constants['q']\n",
    "c = constants.cgs_constants['c']\n",
    "m_e = constants.cgs_constants['m_e']\n",
    "m_p = constants.cgs_constants['m_p']\n",
    "\n"
   ]
  },
  {
   "cell_type": "code",
   "execution_count": 50,
   "metadata": {},
   "outputs": [],
   "source": [
    "import solvers\n",
    "import particles\n",
    "import fields\n",
    "import analytic_models\n",
    "\n",
    "from solvers import symplectic_maps\n",
    "maps = symplectic_maps()"
   ]
  },
  {
   "cell_type": "code",
   "execution_count": 66,
   "metadata": {},
   "outputs": [
    {
     "name": "stdout",
     "output_type": "stream",
     "text": [
      "0.09941722719738784\n"
     ]
    }
   ],
   "source": [
    "## Particle definitions \n",
    "sigma_x = 0.1\n",
    "Q_mks = 40.0e-10\n",
    "Q = constants.charge_mks_to_cgs(Q_mks)\n",
    "\n",
    "n_particles = 10000\n",
    "L_0 = 10. * sigma_x ## Half the domain size\n",
    "L_min = L_0 / 40 ## minimum wavelength to resolve\n",
    "\n",
    "E = 200000.0e6\n",
    "\n",
    "## This is where we initialize a gaussian distribuiton\n",
    "new_distribution = particles.distribution(N = n_particles)\n",
    "new_distribution.construct_uniform_guassian_2D(sigma_x = sigma_x, \n",
    "                sigma_y = sigma_x, sigma_xp = sigma_x * 9.0e-7, sigma_yp = sigma_x * 9.0e-7)\n",
    "\n",
    "## Particle distributions\n",
    "my_beam = particles.particles_2D_tent(new_distribution, dx_tent = 1 * L_min, dy_tent = 1 * L_min, \n",
    "    bunch_charge = Q, species_charge = q, species_mass = m_p, K_e = E)\n",
    "\n",
    "## Define the fields \n",
    "my_fields = fields.cartesian_2D(L_x = L_0, L_y = L_0,\n",
    "\tL_x_min = L_min, L_y_min = L_min)\n",
    "\n",
    "print np.sqrt(np.dot(my_beam.x, my_beam.x) / n_particles)\n"
   ]
  },
  {
   "cell_type": "code",
   "execution_count": 67,
   "metadata": {},
   "outputs": [],
   "source": [
    "\n",
    "## This is where we instantiate the solver\n",
    "field_solver = solvers.field_solver_2D()\n",
    "my_fields.register_solver(field_solver)\n",
    "\n"
   ]
  },
  {
   "cell_type": "code",
   "execution_count": 68,
   "metadata": {},
   "outputs": [],
   "source": [
    "def space_charge_step(fields, particles, ds = 0.01):\n",
    "    \n",
    "    maps.drift(particles, ds = ds / 2.)\n",
    "    maps.space_charge_kick_2D(fields, particles, ds = ds)\n",
    "    maps.drift(particles, ds = ds / 2.)\n",
    "    \n",
    "    "
   ]
  },
  {
   "cell_type": "code",
   "execution_count": 69,
   "metadata": {},
   "outputs": [],
   "source": [
    "def one_turn_map(fields, particles):\n",
    "    \n",
    "    maps.drift(particles, ds = 1000.)\n",
    "    maps.thin_quad(fields, particles, ds = 0.01, kappa = 0.0000)\n",
    "    maps.drift(particles, ds = 10.)\n",
    "    maps.thin_quad(fields, particles, ds = 0.01, kappa = 0.0000)\n",
    "    maps.drift(particles, ds = 1000.)\n",
    "    \n",
    "    "
   ]
  },
  {
   "cell_type": "code",
   "execution_count": 70,
   "metadata": {},
   "outputs": [],
   "source": [
    "def plot_beam(beam):\n",
    "\n",
    "    plt.figure()\n",
    "    plt.subplot(2,2,1)\n",
    "    plt.hexbin(beam.x, beam.px)\n",
    "    \n",
    "    plt.subplot(2,2,2)\n",
    "    plt.hexbin(beam.y, beam.py)\n",
    "    \n",
    "    plt.subplot(2,2,3)\n",
    "    plt.hexbin(beam.x, beam.y)\n",
    "    \n",
    "    plt.subplot(2,2,4)\n",
    "    plt.hexbin(beam.px, beam.py)\n",
    "    \n",
    "    plt.show()\n",
    "    \n",
    "\n",
    "    "
   ]
  },
  {
   "cell_type": "code",
   "execution_count": 71,
   "metadata": {},
   "outputs": [
    {
     "data": {
      "text/plain": [
       "[<matplotlib.lines.Line2D at 0x1057b3450>]"
      ]
     },
     "execution_count": 71,
     "metadata": {},
     "output_type": "execute_result"
    },
    {
     "data": {
      "image/png": "[encoded data removed]",
      "text/plain": [
       "<Figure size 432x288 with 1 Axes>"
      ]
     },
     "metadata": {},
     "output_type": "display_data"
    }
   ],
   "source": [
    "k = 0\n",
    "rms_x = []\n",
    "while k < 10000:\n",
    "\n",
    "    one_turn_map(my_fields, my_beam)\n",
    "    xx = np.sqrt(np.dot(my_beam.x, my_beam.x) / len(my_beam.x))\n",
    "      \n",
    "    rms_x.append(xx)\n",
    "    k = k + 1\n",
    "    \n",
    "plt.figure()\n",
    "plt.plot(rms_x)"
   ]
  },
  {
   "cell_type": "code",
   "execution_count": null,
   "metadata": {},
   "outputs": [],
   "source": []
  }
 ],
 "metadata": {
  "kernelspec": {
   "display_name": "Python 2",
   "language": "python",
   "name": "python2"
  },
  "language_info": {
   "codemirror_mode": {
    "name": "ipython",
    "version": 2
   },
   "file_extension": ".py",
   "mimetype": "text/x-python",
   "name": "python",
   "nbconvert_exporter": "python",
   "pygments_lexer": "ipython2",
   "version": "2.7.10"
  }
 },
 "nbformat": 4,
 "nbformat_minor": 2
}
