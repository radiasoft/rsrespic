{
 "cells": [
  {
   "cell_type": "code",
   "execution_count": 1,
   "metadata": {},
   "outputs": [],
   "source": [
    "import numpy as np\n",
    "import matplotlib\n",
    "matplotlib.use('TkAgg')\n",
    "matplotlib.rcParams.update({'font.size': 16})\n",
    "\n",
    "import matplotlib.pyplot as plt\n",
    "pi = np.pi\n"
   ]
  },
  {
   "cell_type": "code",
   "execution_count": 2,
   "metadata": {},
   "outputs": [],
   "source": [
    "from scipy.constants import c, mu_0, m_e, m_p\n",
    "from scipy.constants import epsilon_0 as e_0\n",
    "from scipy.constants import elementary_charge as q"
   ]
  },
  {
   "cell_type": "code",
   "execution_count": 3,
   "metadata": {},
   "outputs": [],
   "source": [
    "import solvers\n",
    "import particles\n",
    "import fields\n",
    "import analytic_models\n"
   ]
  },
  {
   "cell_type": "markdown",
   "metadata": {},
   "source": [
    "# The first part of this is the field solver test \n",
    "The order of operations are as follows \n",
    " * Eefine the parameters for the field solver test\n",
    " * Initialize the distribuiton \n",
    " * Initializs particles  \n",
    " * Solve the fiels "
   ]
  },
  {
   "cell_type": "code",
   "execution_count": 4,
   "metadata": {},
   "outputs": [],
   "source": [
    "\n",
    "## Particle definitions \n",
    "sigma_x = 0.05\n",
    "Q = 50.0e-12\n",
    "n_particles = 1000\n",
    "\n",
    "## Field solver parameters \n",
    "L_0 = 15. * sigma_x ## Half the domain size\n",
    "L_min = L_0 / 100 ## minimum wavelength to resolve\n",
    "\n",
    "## Grid definitions for plotting \n",
    "x_max = 2 * sigma_x ## Half the plotting region\n",
    "n_grid = 41\n",
    "grid_index = int(n_grid / 2.) \n",
    "\n"
   ]
  },
  {
   "cell_type": "code",
   "execution_count": 5,
   "metadata": {},
   "outputs": [],
   "source": [
    "\n",
    "## This is where we initialize a gaussian distribuiton\n",
    "distribution = particles.distribution(N = n_particles)\n",
    "distribution.construct_uniform_guassian_2D(sigma_x = sigma_x, sigma_y=sigma_x)\n",
    "\n",
    "## Particle distributions\n",
    "particles = particles.particles_2D_tent(distribution, dx_tent = 2. * L_min, dy_tent = 2. * L_min, Q_0 = Q, m = m_p)\n",
    "\n",
    "## Define the fields \n",
    "fields = fields.cartesian_2D(L_x = L_0, L_y = L_0, L_x_min = L_min, L_y_min = L_min)\n",
    "\n",
    "## This is where we instantiate the solver\n",
    "field_solver = solvers.field_solver_2D()\n",
    "\n",
    "\n",
    "\n"
   ]
  },
  {
   "cell_type": "code",
   "execution_count": 6,
   "metadata": {},
   "outputs": [
    {
     "data": {
      "text/plain": [
       "5e-11"
      ]
     },
     "execution_count": 6,
     "metadata": {},
     "output_type": "execute_result"
    }
   ],
   "source": [
    "particles.mass\n",
    "particles.charge\n",
    "particles.Q_0"
   ]
  },
  {
   "cell_type": "code",
   "execution_count": 7,
   "metadata": {},
   "outputs": [
    {
     "data": {
      "text/plain": [
       "(array([[797.69265213-7.16794772e-15j, 780.58241542-1.38590168e-14j,\n",
       "         763.47341512-3.93117559e-14j, ..., 788.85125209-3.34072764e-14j,\n",
       "         805.28487259+1.68801436e-14j, 821.78130089-1.27208306e-15j],\n",
       "        [779.87805199-4.07962635e-16j, 761.42843702-1.55795174e-15j,\n",
       "         742.94663573-1.61040727e-14j, ..., 769.91858102-5.96040293e-15j,\n",
       "         787.50745745-3.25558234e-15j, 805.10353464-4.07303418e-15j],\n",
       "        [761.94911467+1.97673370e-14j, 742.12070673+1.29666537e-14j,\n",
       "         722.24501872+5.99138429e-15j, ..., 750.97577912+4.26469005e-15j,\n",
       "         769.73047669-4.06770565e-14j, 788.4134998 -1.62463179e-15j],\n",
       "        ...,\n",
       "        [756.22620136-4.83783119e-15j, 736.03149115+9.80563455e-15j,\n",
       "         715.76002454-7.12857890e-15j, ..., 738.59827088-5.06568243e-15j,\n",
       "         758.4103781 -1.23481870e-14j, 778.37429484-8.58477175e-15j],\n",
       "        [774.90054769+1.03351749e-15j, 756.16450803+1.60996355e-15j,\n",
       "         737.4116624 -1.68657227e-14j, ..., 757.02612201+2.12386051e-14j,\n",
       "         775.45992257+2.88983273e-15j, 794.13256448-1.01442684e-15j],\n",
       "        [793.5155925 +1.99827445e-15j, 776.20537426-1.69061000e-14j,\n",
       "         758.95402546+1.77133961e-14j, ..., 775.55121506+1.37273133e-14j,\n",
       "         792.65323966+1.32552812e-14j, 810.09111084+5.06288304e-15j]]),\n",
       " array([[-0.1  , -0.095, -0.09 , ...,  0.09 ,  0.095,  0.1  ],\n",
       "        [-0.1  , -0.095, -0.09 , ...,  0.09 ,  0.095,  0.1  ],\n",
       "        [-0.1  , -0.095, -0.09 , ...,  0.09 ,  0.095,  0.1  ],\n",
       "        ...,\n",
       "        [-0.1  , -0.095, -0.09 , ...,  0.09 ,  0.095,  0.1  ],\n",
       "        [-0.1  , -0.095, -0.09 , ...,  0.09 ,  0.095,  0.1  ],\n",
       "        [-0.1  , -0.095, -0.09 , ...,  0.09 ,  0.095,  0.1  ]]),\n",
       " array([[-0.1  , -0.1  , -0.1  , ..., -0.1  , -0.1  , -0.1  ],\n",
       "        [-0.095, -0.095, -0.095, ..., -0.095, -0.095, -0.095],\n",
       "        [-0.09 , -0.09 , -0.09 , ..., -0.09 , -0.09 , -0.09 ],\n",
       "        ...,\n",
       "        [ 0.09 ,  0.09 ,  0.09 , ...,  0.09 ,  0.09 ,  0.09 ],\n",
       "        [ 0.095,  0.095,  0.095, ...,  0.095,  0.095,  0.095],\n",
       "        [ 0.1  ,  0.1  ,  0.1  , ...,  0.1  ,  0.1  ,  0.1  ]]))"
      ]
     },
     "execution_count": 7,
     "metadata": {},
     "output_type": "execute_result"
    }
   ],
   "source": [
    "## Compute the potentials at the particle coordinates\n",
    "field_solver.compute_phi(fields, particles)\n",
    "\n",
    "## Compute the potentials on a grid\n",
    "field_solver.compute_phi_mesh(fields, xmax = x_max, ymax = x_max, n_grid = n_grid)\n",
    "\n"
   ]
  },
  {
   "cell_type": "code",
   "execution_count": 8,
   "metadata": {},
   "outputs": [
    {
     "ename": "NameError",
     "evalue": "name 'fields_tent' is not defined",
     "output_type": "error",
     "traceback": [
      "\u001b[0;31m---------------------------------------------------------------------------\u001b[0m",
      "\u001b[0;31mNameError\u001b[0m                                 Traceback (most recent call last)",
      "\u001b[0;32m<ipython-input-8-fbe2def55268>\u001b[0m in \u001b[0;36m<module>\u001b[0;34m()\u001b[0m\n\u001b[1;32m      8\u001b[0m \u001b[0;34m\u001b[0m\u001b[0m\n\u001b[1;32m      9\u001b[0m         \u001b[0mplt\u001b[0m\u001b[0;34m.\u001b[0m\u001b[0msubplot\u001b[0m\u001b[0;34m(\u001b[0m\u001b[0;36m1\u001b[0m\u001b[0;34m,\u001b[0m\u001b[0;36m2\u001b[0m\u001b[0;34m,\u001b[0m\u001b[0;36m1\u001b[0m\u001b[0;34m)\u001b[0m\u001b[0;34m\u001b[0m\u001b[0m\n\u001b[0;32m---> 10\u001b[0;31m \tplt.plot(fields_tent.y_grid[:, grid_index] / sigma_x, \n\u001b[0m\u001b[1;32m     11\u001b[0m \t\tfields_tent.phi_grid[:, grid_index], label = 'tent functions', linewidth = 2.)\n\u001b[1;32m     12\u001b[0m \u001b[0;34m\u001b[0m\u001b[0m\n",
      "\u001b[0;31mNameError\u001b[0m: name 'fields_tent' is not defined"
     ]
    }
   ],
   "source": [
    "## post processing and  plotting \n",
    "\n",
    "\n",
    "plt.figure()\n",
    "\n",
    "plt.plot(fields.y_grid[:, grid_index] / sigma_x, \n",
    "    fields.phi_grid[:, grid_index], label = 'tent functions', linewidth = 2.)\n",
    "\n",
    "plt.legend(loc = 0)\n",
    "plt.xlabel(r'Position [$\\sigma_x$]')\n",
    "plt.ylabel('Potential [V]')\n",
    "\n",
    "\n",
    "plt.figure()\n",
    "plt.imshow(fielss)\n",
    "plt.show()"
   ]
  },
  {
   "cell_type": "code",
   "execution_count": null,
   "metadata": {},
   "outputs": [],
   "source": []
  }
 ],
 "metadata": {
  "kernelspec": {
   "display_name": "Python 3",
   "language": "python",
   "name": "python3"
  },
  "language_info": {
   "codemirror_mode": {
    "name": "ipython",
    "version": 3
   },
   "file_extension": ".py",
   "mimetype": "text/x-python",
   "name": "python",
   "nbconvert_exporter": "python",
   "pygments_lexer": "ipython3",
   "version": "3.6.4"
  }
 },
 "nbformat": 4,
 "nbformat_minor": 2
}
