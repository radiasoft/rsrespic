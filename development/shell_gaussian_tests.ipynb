{
 "cells": [
  {
   "cell_type": "code",
   "execution_count": 1,
   "metadata": {},
   "outputs": [],
   "source": [
    "import numpy as np\n",
    "import matplotlib\n",
    "import scipy.integrate as sint\n",
    "import matplotlib.pyplot as plt\n",
    "\n",
    "pi = np.pi\n",
    "\n"
   ]
  },
  {
   "cell_type": "code",
   "execution_count": 2,
   "metadata": {},
   "outputs": [],
   "source": [
    "import constants\n",
    "\n",
    "q = constants.cgs_constants['q']\n",
    "c = constants.cgs_constants['c']\n",
    "m_e = constants.cgs_constants['m_e']\n",
    "m_p = constants.cgs_constants['m_p']\n",
    "\n"
   ]
  },
  {
   "cell_type": "code",
   "execution_count": 3,
   "metadata": {},
   "outputs": [],
   "source": [
    "import solvers\n",
    "import particles\n",
    "import fields\n",
    "import analytic_models\n",
    "\n"
   ]
  },
  {
   "cell_type": "markdown",
   "metadata": {},
   "source": [
    "# The first part of this is the field solver test \n",
    "The order of operations are as follows \n",
    " * Eefine the parameters for the field solver test\n",
    " * Initialize the distribuiton \n",
    " * Initializs particles  \n",
    " * Solve the fields\n",
    " * Postprocessing and plotting"
   ]
  },
  {
   "cell_type": "code",
   "execution_count": null,
   "metadata": {},
   "outputs": [],
   "source": [
    "\n",
    "## Particle definitions \n",
    "sigma_x = 0.05\n",
    "Q = constants.charge_mks_to_cgs(5.0e-9)\n",
    "n_particles = 5000\n",
    "\n",
    "## Field solver parameters \n",
    "L_0 = 10. * sigma_x ## Half the domain size\n",
    "L_min = L_0 / 50 ## minimum wavelength to resolve\n",
    "\n",
    "## Grid definitions for plotting \n",
    "x_max = 6 * sigma_x ## Half the plotting region\n",
    "n_grid = 41\n",
    "grid_index = int(n_grid / 2.) \n",
    "\n"
   ]
  },
  {
   "cell_type": "code",
   "execution_count": null,
   "metadata": {},
   "outputs": [],
   "source": [
    "## This is where we initialize a gaussian distribuiton\n",
    "distribution = particles.distribution(N = n_particles)\n",
    "distribution.construct_uniform_guassian_2D(sigma_x = sigma_x, sigma_y=sigma_x)\n",
    "\n",
    "## Particle distributions\n",
    "my_gaussian_beam = particles.particles_2D_tent(distribution, \n",
    "     dx_tent = 2. * L_min, dy_tent = 2. * L_min,\n",
    "    bunch_charge = Q, species_mass = m_p)\n",
    "\n",
    "## Define the fields \n",
    "my_fields = fields.cartesian_2D(L_x = L_0, L_y = L_0, L_x_min = L_min, L_y_min = L_min)\n",
    "\n",
    "## This is where we instantiate the solver\n",
    "field_solver = solvers.field_solver_2D()\n",
    "\n",
    "\n"
   ]
  },
  {
   "cell_type": "code",
   "execution_count": null,
   "metadata": {},
   "outputs": [],
   "source": [
    "plt.figure()\n",
    "plt.hexbin(my_gaussian_beam.x, my_gaussian_beam.y)\n",
    "plt.show()"
   ]
  },
  {
   "cell_type": "code",
   "execution_count": null,
   "metadata": {},
   "outputs": [],
   "source": [
    "## Compute the potentials at the particle coordinates\n",
    "field_solver.compute_phi(my_fields, my_gaussian_beam)\n",
    "\n",
    "## Compute the potentials on a grid\n",
    "field_solver.compute_phi_mesh(my_fields, xmax = x_max, ymax = x_max, n_grid = n_grid)\n",
    "\n"
   ]
  },
  {
   "cell_type": "code",
   "execution_count": null,
   "metadata": {},
   "outputs": [],
   "source": [
    "field_solver.compute_kick(my_fields, my_gaussian_beam)"
   ]
  },
  {
   "cell_type": "code",
   "execution_count": null,
   "metadata": {},
   "outputs": [],
   "source": [
    "## post processing and  plotting \n",
    "\n",
    "\n",
    "plt.figure()\n",
    "\n",
    "plt.plot(my_fields.y_grid[:, grid_index] / sigma_x, \n",
    "    my_fields.phi_grid[:, grid_index], label = 'tent functions', linewidth = 2.)\n",
    "\n",
    "plt.legend(loc = 0)\n",
    "plt.xlabel(r'Position [$\\sigma_x$]')\n",
    "plt.ylabel('Potential [V]')\n",
    "\n",
    "plt.figure()\n",
    "plt.imshow(np.real(my_fields.phi_grid))\n",
    "\n",
    "plt.figure()\n",
    "plt.plot(my_fields.phi_grid.flatten())\n",
    "plt.show()\n",
    "\n",
    "plt.figure()\n",
    "plt.plot(my_gaussian_beam.x,my_fields.kick_x, 'o')\n",
    "plt.plot(my_gaussian_beam.y,my_fields.kick_y, 'o')"
   ]
  },
  {
   "cell_type": "markdown",
   "metadata": {},
   "source": [
    "# Next we test the particle pusher \n",
    "\n",
    "The workfow is the following \n",
    "* Construct a KV distribution \n",
    "* Initialize the kinetics sovler \n",
    "* Determine the simulation parameters (number of steps etc)\n",
    "* Run the simulation \n",
    "* Post-process the results "
   ]
  },
  {
   "cell_type": "code",
   "execution_count": 29,
   "metadata": {},
   "outputs": [],
   "source": [
    "## Particle definitions \n",
    "sigma_x = 0.05\n",
    "Q_mks = 5.0e-9\n",
    "Q = constants.charge_mks_to_cgs(Q_mks)\n",
    "\n",
    "n_particles = 10000\n",
    "L_0 = 5. * sigma_x ## Half the domain size\n",
    "L_min = L_0 / 40 ## minimum wavelength to resolve\n",
    "\n",
    "E = 5.0e6\n",
    "gamma = E / 938.2720813e6 + 1.\n",
    "\n",
    "## This is where we initialize a gaussian distribuiton\n",
    "new_distribution = particles.distribution(N = n_particles)\n",
    "new_distribution.construct_kv(r_0 = sigma_x)\n",
    "\n",
    "## Particle distributions\n",
    "my_kv_beam = particles.particles_2D_delta(new_distribution, bunch_charge = Q, species_charge = q, species_mass = m_p, gamma = gamma)\n",
    "\n",
    "## Define the fields \n",
    "my_kv_fields = fields.cartesian_2D(L_x = L_0, L_y = L_0,\n",
    "\tL_x_min = L_min, L_y_min = L_min)\n",
    "\n",
    "r_beam = np.sqrt((my_kv_beam.x)** 2 + (my_kv_beam.y) **2)\n"
   ]
  },
  {
   "cell_type": "code",
   "execution_count": 30,
   "metadata": {},
   "outputs": [],
   "source": [
    "\n",
    "## This is where we instantiate the solver\n",
    "field_solver = solvers.field_solver_2D()\n",
    "\n",
    "# instantiate the kinetics solver\n",
    "kinetics_solver = solvers.kinetics_solver_SC2D(ds = 0.1)\n",
    "\n",
    "# note s is in cm\n",
    "\n",
    "# compute the potentials at the particles/\n",
    "field_solver.compute_phi(my_kv_fields, my_kv_beam)\n",
    "field_solver.compute_psi_particles(my_kv_fields, my_kv_beam)\n"
   ]
  },
  {
   "cell_type": "code",
   "execution_count": 31,
   "metadata": {},
   "outputs": [
    {
     "name": "stderr",
     "output_type": "stream",
     "text": [
      "/Users/jedelen/anaconda3/lib/python3.6/site-packages/numpy/core/numeric.py:492: ComplexWarning: Casting complex values to real discards the imaginary part\n",
      "  return array(a, dtype, copy=False, order=order)\n"
     ]
    },
    {
     "data": {
      "image/png": "[encoded data removed]",
      "text/plain": [
       "<matplotlib.figure.Figure at 0x151c8146a0>"
      ]
     },
     "metadata": {},
     "output_type": "display_data"
    }
   ],
   "source": [
    "\n",
    "psi_analytic = analytic_models.compute_psi(sigma_x, my_kv_beam)\n",
    "psi_respic = my_kv_fields.psi_vals - np.min(my_kv_fields.psi_vals)\n",
    "\n",
    "plt.figure()\n",
    "plt.plot(r_beam, psi_respic * pi, 'ro', label = 'respic')\n",
    "plt.plot(r_beam, psi_analytic , 'bo', label = 'analytic')\n",
    "plt.legend(loc = 0)\n",
    "plt.show()"
   ]
  },
  {
   "cell_type": "code",
   "execution_count": 32,
   "metadata": {},
   "outputs": [
    {
     "data": {
      "text/plain": [
       "27777.777777777777"
      ]
     },
     "execution_count": 32,
     "metadata": {},
     "output_type": "execute_result"
    }
   ],
   "source": [
    "1/0.006 ** 2"
   ]
  },
  {
   "cell_type": "code",
   "execution_count": 33,
   "metadata": {},
   "outputs": [],
   "source": [
    "## The first test is to compute the potential and the kicks \n",
    "kinetics_solver.step(my_kv_beam, my_kv_fields, field_solver)"
   ]
  },
  {
   "cell_type": "markdown",
   "metadata": {},
   "source": [
    "# compute the analytic potential and compare with the numerical potential\n"
   ]
  },
  {
   "cell_type": "code",
   "execution_count": 34,
   "metadata": {},
   "outputs": [
    {
     "data": {
      "text/plain": [
       "Text(0,0.5,'radial kick')"
      ]
     },
     "execution_count": 34,
     "metadata": {},
     "output_type": "execute_result"
    },
    {
     "data": {
      "image/png": "[encoded data removed]",
      "text/plain": [
       "<matplotlib.figure.Figure at 0x10d689048>"
      ]
     },
     "metadata": {},
     "output_type": "display_data"
    }
   ],
   "source": [
    "\n",
    "\n",
    "kick_analytic = analytic_models.compute_kick_psi(sigma_x, my_kv_beam)\n",
    "\n",
    "kick_r = np.sqrt(my_kv_fields.kick_y **2 + my_kv_fields.kick_x **2)\n",
    "\n",
    "plt.figure()\n",
    "plt.plot(r_beam, kick_r * pi ,'o')\n",
    "plt.plot(r_beam, kick_analytic, 'o')\n",
    "plt.xlabel('r position [m]')\n",
    "plt.ylabel('radial kick')\n",
    "\n"
   ]
  },
  {
   "cell_type": "code",
   "execution_count": null,
   "metadata": {},
   "outputs": [],
   "source": []
  },
  {
   "cell_type": "code",
   "execution_count": null,
   "metadata": {},
   "outputs": [],
   "source": [
    "\n"
   ]
  },
  {
   "cell_type": "code",
   "execution_count": 35,
   "metadata": {},
   "outputs": [
    {
     "data": {
      "image/png": "[encoded data removed]",
      "text/plain": [
       "<matplotlib.figure.Figure at 0x10d8250b8>"
      ]
     },
     "metadata": {},
     "output_type": "display_data"
    },
    {
     "data": {
      "image/png": "[encoded data removed]",
      "text/plain": [
       "<matplotlib.figure.Figure at 0x10d805358>"
      ]
     },
     "metadata": {},
     "output_type": "display_data"
    },
    {
     "data": {
      "image/png": "[encoded data removed]",
      "text/plain": [
       "<matplotlib.figure.Figure at 0x1076c2f28>"
      ]
     },
     "metadata": {},
     "output_type": "display_data"
    }
   ],
   "source": [
    "## Here we plot a histogram of the particles weighted by the kicks in both planes \n",
    "## as well as the radial kick as a function of radial position\n",
    "\n",
    "plt.figure()\n",
    "plt.hist2d(my_kv_beam.x, my_kv_beam.y, weights = my_kv_fields.kick_x, bins = 20)\n",
    "plt.xlabel('x position [m]')\n",
    "plt.ylabel('y position [m]')\n",
    "\n",
    "plt.figure()\n",
    "plt.hist2d(my_kv_beam.x, my_kv_beam.y, weights = my_kv_fields.kick_y, bins = 20)\n",
    "plt.xlabel('x position [m]')\n",
    "plt.ylabel('y position [m]')\n",
    "\n",
    "x0 = np.mean(my_kv_beam.x)\n",
    "y0 = np.mean(my_kv_beam.y)\n",
    "r = np.sqrt((my_kv_beam.x  - x0)** 2 + (my_kv_beam.y - y0) **2)\n",
    "kick_r = np.sqrt(my_kv_fields.kick_y **2 + my_kv_fields.kick_x **2)\n",
    "\n",
    "plt.figure()\n",
    "plt.plot(r,kick_r,'o')\n",
    "plt.xlabel('r position [m]')\n",
    "plt.ylabel('radial kick')\n",
    "\n",
    "plt.show()"
   ]
  },
  {
   "cell_type": "code",
   "execution_count": 36,
   "metadata": {},
   "outputs": [],
   "source": [
    "r_max = []\n",
    "k = 0\n",
    "while k < 100:\n",
    "\n",
    "    kinetics_solver.step(my_kv_beam, my_kv_fields, field_solver)\n",
    "    \n",
    "    x0 = np.mean(my_kv_beam.x)\n",
    "    y0 = np.mean(my_kv_beam.y)\n",
    "    r = np.sqrt((my_kv_beam.x  - x0)** 2 + (my_kv_beam.y - y0) **2)\n",
    "    r_max.append(np.max(r))\n",
    "    k = k + 1\n"
   ]
  },
  {
   "cell_type": "code",
   "execution_count": 37,
   "metadata": {},
   "outputs": [],
   "source": [
    "## This is the code for the expansion of a round beam in a drift \n",
    "\n",
    "def round_beam_expansion(x, r0, q, gamma, m_0):\n",
    "    \n",
    "    beta = np.sqrt(1. - 1./ gamma **2)\n",
    "    \n",
    "    I = q * beta * c / 100. \n",
    "    \n",
    "    I0 = 4 * pi * 8.85e-12 * (c/100.) ** 3 / 1.602e-19 * (m_0 / 1000.)\n",
    "    \n",
    "    K = I * 2. / (I0 * beta **3 * gamma **3)\n",
    "    \n",
    "    def func(r,z):\n",
    "        \n",
    "        Rpp = K/r[0]\n",
    "        \n",
    "        return np.asarray([r[1], Rpp])\n",
    "    \n",
    "    r_init = np.asarray([r0, 0])\n",
    "    out = sint.odeint(func, r_init, x, mxstep=100000, atol=1e-15)\n",
    "    \n",
    "    return out"
   ]
  },
  {
   "cell_type": "code",
   "execution_count": 39,
   "metadata": {},
   "outputs": [
    {
     "data": {
      "image/png": "[encoded data removed]",
      "text/plain": [
       "<matplotlib.figure.Figure at 0x10d4ff320>"
      ]
     },
     "metadata": {},
     "output_type": "display_data"
    }
   ],
   "source": [
    "\n",
    "\n",
    "x = np.linspace(1,kinetics_solver.ds*k, k)\n",
    "\n",
    "r_analyitic = round_beam_expansion(x / 100., sigma_x / 100., Q_mks , my_kv_beam.gamma, my_kv_beam.m_0)\n",
    "\n",
    "plt.figure()\n",
    "plt.plot(x,r_max,linewidth = 1.5, label = 'respic solution')\n",
    "#plt.plot(x,r_analyitic[:,0] * 100., linewidth = 1.5, label = 'analytic solution')\n",
    "plt.xlabel('s position [cm]')\n",
    "plt.ylabel('beam radius [cm]')\n",
    "plt.legend(loc = 0)\n",
    "plt.grid()\n",
    "\n",
    "plt.show()"
   ]
  },
  {
   "cell_type": "code",
   "execution_count": null,
   "metadata": {},
   "outputs": [],
   "source": [
    "print(my_kv_beam.weight/(0.1*c))\n"
   ]
  },
  {
   "cell_type": "code",
   "execution_count": null,
   "metadata": {},
   "outputs": [],
   "source": []
  },
  {
   "cell_type": "code",
   "execution_count": null,
   "metadata": {},
   "outputs": [],
   "source": []
  }
 ],
 "metadata": {
  "kernelspec": {
   "display_name": "Python 3",
   "language": "python",
   "name": "python3"
  },
  "language_info": {
   "codemirror_mode": {
    "name": "ipython",
    "version": 3
   },
   "file_extension": ".py",
   "mimetype": "text/x-python",
   "name": "python",
   "nbconvert_exporter": "python",
   "pygments_lexer": "ipython3",
   "version": "3.6.4"
  }
 },
 "nbformat": 4,
 "nbformat_minor": 2
}
