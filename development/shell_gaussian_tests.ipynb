{
 "cells": [
  {
   "cell_type": "code",
   "execution_count": 1,
   "metadata": {},
   "outputs": [],
   "source": [
    "import numpy as np\n",
    "import matplotlib\n",
    "import scipy.integrate as sint\n",
    "import matplotlib.pyplot as plt\n",
    "\n",
    "pi = np.pi\n",
    "\n",
    "\n"
   ]
  },
  {
   "cell_type": "code",
   "execution_count": 2,
   "metadata": {},
   "outputs": [],
   "source": [
    "import constants\n",
    "\n",
    "q = constants.cgs_constants['q']\n",
    "c = constants.cgs_constants['c']\n",
    "m_e = constants.cgs_constants['m_e']\n",
    "m_p = constants.cgs_constants['m_p']\n",
    "\n"
   ]
  },
  {
   "cell_type": "code",
   "execution_count": 3,
   "metadata": {},
   "outputs": [],
   "source": [
    "import solvers\n",
    "import particles\n",
    "import fields\n",
    "import analytic_models\n",
    "\n"
   ]
  },
  {
   "cell_type": "markdown",
   "metadata": {},
   "source": [
    "# The first part of this is the field solver test \n",
    "The order of operations are as follows \n",
    " * Eefine the parameters for the field solver test\n",
    " * Initialize the distribuiton \n",
    " * Initializs particles  \n",
    " * Solve the fields\n",
    " * Postprocessing and plotting"
   ]
  },
  {
   "cell_type": "code",
   "execution_count": null,
   "metadata": {},
   "outputs": [],
   "source": [
    "\n",
    "## Particle definitions \n",
    "sigma_x = 0.05\n",
    "Q = constants.charge_mks_to_cgs(5.0e-9)\n",
    "n_particles = 5000\n",
    "\n",
    "## Field solver parameters \n",
    "L_0 = 10. * sigma_x ## Half the domain size\n",
    "L_min = L_0 / 50 ## minimum wavelength to resolve\n",
    "\n",
    "## Grid definitions for plotting \n",
    "x_max = 6 * sigma_x ## Half the plotting region\n",
    "n_grid = 41\n",
    "grid_index = int(n_grid / 2.) \n",
    "\n"
   ]
  },
  {
   "cell_type": "code",
   "execution_count": null,
   "metadata": {},
   "outputs": [],
   "source": [
    "## This is where we initialize a gaussian distribuiton\n",
    "distribution = particles.distribution(N = n_particles)\n",
    "distribution.construct_uniform_guassian_2D(sigma_x = sigma_x, sigma_y=sigma_x)\n",
    "\n",
    "## Particle distributions\n",
    "my_gaussian_beam = particles.particles_2D_tent(distribution, \n",
    "     dx_tent = 2. * L_min, dy_tent = 2. * L_min,\n",
    "    bunch_charge = Q, species_mass = m_p)\n",
    "\n",
    "## Define the fields \n",
    "my_fields = fields.cartesian_2D(L_x = L_0, L_y = L_0, L_x_min = L_min, L_y_min = L_min)\n",
    "\n",
    "## This is where we instantiate the solver\n",
    "field_solver = solvers.field_solver_2D()\n",
    "\n",
    "\n"
   ]
  },
  {
   "cell_type": "code",
   "execution_count": null,
   "metadata": {},
   "outputs": [],
   "source": [
    "plt.figure()\n",
    "plt.hexbin(my_gaussian_beam.x, my_gaussian_beam.y)\n",
    "plt.show()"
   ]
  },
  {
   "cell_type": "code",
   "execution_count": null,
   "metadata": {},
   "outputs": [],
   "source": [
    "## Compute the potentials at the particle coordinates\n",
    "field_solver.compute_phi(my_fields, my_gaussian_beam)\n",
    "\n",
    "## Compute the potentials on a grid\n",
    "field_solver.compute_phi_mesh(my_fields, xmax = x_max, ymax = x_max, n_grid = n_grid)\n",
    "\n"
   ]
  },
  {
   "cell_type": "code",
   "execution_count": null,
   "metadata": {},
   "outputs": [],
   "source": [
    "field_solver.compute_kick(my_fields, my_gaussian_beam)"
   ]
  },
  {
   "cell_type": "code",
   "execution_count": null,
   "metadata": {},
   "outputs": [],
   "source": [
    "## post processing and  plotting \n",
    "\n",
    "\n",
    "plt.figure()\n",
    "\n",
    "plt.plot(my_fields.y_grid[:, grid_index] / sigma_x, \n",
    "    my_fields.phi_grid[:, grid_index], label = 'tent functions', linewidth = 2.)\n",
    "\n",
    "plt.legend(loc = 0)\n",
    "plt.xlabel(r'Position [$\\sigma_x$]')\n",
    "plt.ylabel('Potential [V]')\n",
    "\n",
    "plt.figure()\n",
    "plt.imshow(np.real(my_fields.phi_grid))\n",
    "\n",
    "plt.figure()\n",
    "plt.plot(my_fields.phi_grid.flatten())\n",
    "plt.show()\n",
    "\n",
    "plt.figure()\n",
    "plt.plot(my_gaussian_beam.x,my_fields.kick_x, 'o')\n",
    "plt.plot(my_gaussian_beam.y,my_fields.kick_y, 'o')"
   ]
  },
  {
   "cell_type": "markdown",
   "metadata": {},
   "source": [
    "# Next we test the particle pusher \n",
    "\n",
    "The workfow is the following \n",
    "* Construct a KV distribution \n",
    "* Initialize the kinetics sovler \n",
    "* Determine the simulation parameters (number of steps etc)\n",
    "* Run the simulation \n",
    "* Post-process the results "
   ]
  },
  {
   "cell_type": "code",
   "execution_count": 4,
   "metadata": {},
   "outputs": [],
   "source": [
    "## Particle definitions \n",
    "sigma_x = 0.1\n",
    "Q_mks = 5.0e-10\n",
    "Q = constants.charge_mks_to_cgs(Q_mks)\n",
    "\n",
    "n_particles = 10000\n",
    "L_0 = 6. * sigma_x ## Half the domain size\n",
    "L_min = L_0 / 40 ## minimum wavelength to resolve\n",
    "\n",
    "E = 2.0e6\n",
    "\n",
    "## This is where we initialize a gaussian distribuiton\n",
    "new_distribution = particles.distribution(N = n_particles)\n",
    "new_distribution.construct_kv(r_0 = sigma_x)\n",
    "\n",
    "## Particle distributions\n",
    "my_kv_beam = particles.particles_2D_delta(new_distribution,  #dx_tent = L_min, dy_tent = L_min, \n",
    "    bunch_charge = Q, species_charge = q, species_mass = m_p, K_e = E)\n",
    "\n",
    "my_kv_beam_tent = particles.particles_2D_tent(new_distribution, dx_tent = L_min, dy_tent = L_min, \n",
    "    bunch_charge = Q, species_charge = q, species_mass = m_p, K_e = E)\n",
    "\n",
    "## Define the fields \n",
    "my_kv_fields = fields.cartesian_2D(L_x = L_0, L_y = L_0,\n",
    "\tL_x_min = L_min, L_y_min = L_min)\n",
    "\n",
    "r_beam = np.sqrt((my_kv_beam.x)** 2 + (my_kv_beam.y) **2)\n"
   ]
  },
  {
   "cell_type": "code",
   "execution_count": 5,
   "metadata": {},
   "outputs": [],
   "source": [
    "\n",
    "## This is where we instantiate the solver\n",
    "field_solver = solvers.field_solver_2D()\n",
    "\n",
    "# instantiate the kinetics solver\n",
    "kinetics_solver = solvers.kinetics_solver_SC2D(ds = 1.0)\n",
    "\n",
    "# note s is in cm\n",
    "\n",
    "# compute the potentials at the particles/\n",
    "field_solver.compute_phi(my_kv_fields, my_kv_beam)\n",
    "field_solver.compute_psi_particles(my_kv_fields, my_kv_beam)\n",
    "field_solver.compute_kick(my_kv_fields, my_kv_beam)"
   ]
  },
  {
   "cell_type": "code",
   "execution_count": 6,
   "metadata": {},
   "outputs": [
    {
     "name": "stderr",
     "output_type": "stream",
     "text": [
      "/Users/jedelen/anaconda3/lib/python3.6/site-packages/numpy/core/numeric.py:492: ComplexWarning: Casting complex values to real discards the imaginary part\n",
      "  return array(a, dtype, copy=False, order=order)\n"
     ]
    },
    {
     "data": {
      "image/png": "[encoded data removed]",
      "text/plain": [
       "<matplotlib.figure.Figure at 0x11372ce80>"
      ]
     },
     "metadata": {},
     "output_type": "display_data"
    }
   ],
   "source": [
    "\n",
    "psi_analytic = analytic_models.compute_psi(sigma_x, my_kv_beam)\n",
    "psi_respic = my_kv_fields.psi_vals - np.min(my_kv_fields.psi_vals)\n",
    "\n",
    "plt.figure()\n",
    "plt.plot(r_beam, psi_respic, 'ro', label = 'respic')\n",
    "plt.plot(r_beam, psi_analytic , 'bo', label = 'analytic')\n",
    "plt.legend(loc = 0)\n",
    "plt.show()"
   ]
  },
  {
   "cell_type": "markdown",
   "metadata": {},
   "source": [
    "# compute the analytic potential and compare with the numerical potential\n"
   ]
  },
  {
   "cell_type": "code",
   "execution_count": 7,
   "metadata": {},
   "outputs": [
    {
     "data": {
      "text/plain": [
       "<matplotlib.legend.Legend at 0x1139aea20>"
      ]
     },
     "execution_count": 7,
     "metadata": {},
     "output_type": "execute_result"
    },
    {
     "data": {
      "image/png": "[encoded data removed]",
      "text/plain": [
       "<matplotlib.figure.Figure at 0x110ae6630>"
      ]
     },
     "metadata": {},
     "output_type": "display_data"
    }
   ],
   "source": [
    "kick_analytic = analytic_models.compute_kick_psi(sigma_x, my_kv_beam)\n",
    "\n",
    "kick_r = np.sqrt(my_kv_fields.kick_y **2 + my_kv_fields.kick_x **2)\n",
    "\n",
    "plt.figure()\n",
    "plt.plot(r_beam, kick_r,'ro', label = 'respic')\n",
    "plt.plot(r_beam, kick_analytic, 'bo', label = 'analytic')\n",
    "plt.xlabel('r position [m]')\n",
    "plt.ylabel('radial kick')\n",
    "plt.legend(loc = 0)\n",
    "\n"
   ]
  },
  {
   "cell_type": "code",
   "execution_count": null,
   "metadata": {},
   "outputs": [],
   "source": [
    "## Here we plot a histogram of the particles weighted by the kicks in both planes \n",
    "## as well as the radial kick as a function of radial position\n",
    "\n",
    "plt.figure()\n",
    "plt.hist2d(my_kv_beam.x, my_kv_beam.y, weights = my_kv_fields.kick_x, bins = 20)\n",
    "plt.xlabel('x position [m]')\n",
    "plt.ylabel('y position [m]')\n",
    "\n",
    "plt.figure()\n",
    "plt.hist2d(my_kv_beam.x, my_kv_beam.y, weights = my_kv_fields.kick_y, bins = 20)\n",
    "plt.xlabel('x position [m]')\n",
    "plt.ylabel('y position [m]')\n",
    "\n",
    "x0 = np.mean(my_kv_beam.x)\n",
    "y0 = np.mean(my_kv_beam.y)\n",
    "r = np.sqrt((my_kv_beam.x  - x0)** 2 + (my_kv_beam.y - y0) **2)\n",
    "kick_r = np.sqrt(my_kv_fields.kick_y **2 + my_kv_fields.kick_x **2)\n",
    "\n",
    "plt.figure()\n",
    "plt.plot(r,kick_r,'o')\n",
    "plt.xlabel('r position [m]')\n",
    "plt.ylabel('radial kick')\n",
    "\n",
    "plt.show()"
   ]
  },
  {
   "cell_type": "code",
   "execution_count": null,
   "metadata": {},
   "outputs": [],
   "source": [
    "r_max = [sigma_x]\n",
    "k = 0\n",
    "\n",
    "E0 = np.sum(my_kv_beam.px) + np.sum(my_kv_beam.py)\n",
    "\n",
    "E = [E0]\n",
    "while k < 10:\n",
    "\n",
    "    kinetics_solver.step(my_kv_beam, my_kv_fields, field_solver)\n",
    "    \n",
    "    x0 = np.mean(my_kv_beam.x)\n",
    "    y0 = np.mean(my_kv_beam.y)\n",
    "    r_beam = np.sqrt((my_kv_beam.x)** 2 + (my_kv_beam.y) **2)\n",
    "    r_max.append(np.max(r_beam))\n",
    "    E0 = np.sum(my_kv_beam.px) + np.sum(my_kv_beam.py)\n",
    "\n",
    "    E.append(E0)\n",
    "    \n",
    "    print(k)\n",
    "    \n",
    "    k = k + 1\n",
    "\n",
    "np.save('r_max.npy', r_max)"
   ]
  },
  {
   "cell_type": "code",
   "execution_count": null,
   "metadata": {},
   "outputs": [],
   "source": [
    "## This is the code for the expansion of a round beam in a drift \n",
    "\n",
    "def round_beam_expansion(x, r0, q, gamma, m_0):\n",
    "    \n",
    "    beta = np.sqrt(1. - 1./ gamma **2)\n",
    "    \n",
    "    I = q * beta * c / 100. \n",
    "    \n",
    "    I0 = 4 * pi * 8.85e-12 * (c/100.) ** 3 * (m_0 / 1000.) / (1.602e-19) \n",
    "    #I0 = 17000 #31000.\n",
    "    \n",
    "    K = I * 2. / (I0 * beta **3 * gamma **3)\n",
    "\n",
    "    print(I)\n",
    "    print(I0)\n",
    "    print(K)\n",
    "    def func(r,z):\n",
    "        \n",
    "        Rpp = K/r[0]\n",
    "        \n",
    "        return np.asarray([r[1], Rpp])\n",
    "    \n",
    "    r_init = np.asarray([r0, 0])\n",
    "    \n",
    "    output = sint.odeint(func, r_init, x)\n",
    "    \n",
    "    return output"
   ]
  },
  {
   "cell_type": "code",
   "execution_count": null,
   "metadata": {},
   "outputs": [],
   "source": [
    "k = len(r_max)\n",
    "x = np.linspace(0,kinetics_solver.ds* k, k)\n",
    "\n",
    "#x = np.linspace(0,5,1000)\n",
    "\n",
    "r_analyitic = round_beam_expansion(x / 100. , sigma_x / 100. , Q_mks * 80, my_kv_beam.gamma, my_kv_beam.m_0)\n"
   ]
  },
  {
   "cell_type": "code",
   "execution_count": null,
   "metadata": {},
   "outputs": [],
   "source": [
    "x = np.linspace(0,kinetics_solver.ds* k, k)\n",
    "\n",
    "plot_data = np.column_stack([x, np.asarray(E)])\n",
    "np.save('energy_cons.npy', plot_data)\n",
    "\n",
    "plt.figure()\n",
    "plt.plot(x,np.asarray(E))\n",
    "plt.ylabel(r'$\\Sigma_n p_{x,n} + p_{y,n}$')\n",
    "plt.xlabel(r'Step')\n",
    "plt.savefig('output.png')\n",
    "plt.show()\n"
   ]
  },
  {
   "cell_type": "code",
   "execution_count": null,
   "metadata": {
    "scrolled": true
   },
   "outputs": [],
   "source": [
    "plt.figure()\n",
    "plt.plot(x,r_max,linewidth = 1.5, label = 'respic solution')\n",
    "plt.plot(x,r_analyitic[:,0] * 100, linewidth = 1.5, label = 'analytic solution')\n",
    "plt.xlabel('s position [cm]')\n",
    "plt.ylabel('beam radius [cm]')\n",
    "plt.legend(loc = 0)\n",
    "plt.grid()\n",
    "\n",
    "plt.figure()\n",
    "plt.plot(x,r_max / (r_analyitic[:,0] * 100. ))\n",
    "\n",
    "\n",
    "\n"
   ]
  },
  {
   "cell_type": "code",
   "execution_count": null,
   "metadata": {},
   "outputs": [],
   "source": [
    "plt.figure(figsize = (6,6))\n",
    "plt.plot(my_kv_beam.x,my_kv_beam.y, 'o')\n",
    "plt.show()"
   ]
  },
  {
   "cell_type": "code",
   "execution_count": null,
   "metadata": {},
   "outputs": [],
   "source": [
    "my_kv_beam.weight"
   ]
  },
  {
   "cell_type": "code",
   "execution_count": null,
   "metadata": {},
   "outputs": [],
   "source": [
    "np.max(my_kv_beam.x)"
   ]
  },
  {
   "cell_type": "code",
   "execution_count": null,
   "metadata": {},
   "outputs": [],
   "source": [
    "my_kv_beam.beta"
   ]
  },
  {
   "cell_type": "code",
   "execution_count": null,
   "metadata": {},
   "outputs": [],
   "source": [
    "def compute_momentum_arg(beta, p_xi, px, py, m_0):\n",
    "\n",
    "    argument = np.sqrt(beta**2 * p_xi **2 - px **2 - py**2 - (m_0)**2 * c**2)\n",
    "    return argument\n",
    "\n",
    "\n",
    "\n",
    "gamma = 100.\n",
    "beta = np.sqrt(1. - 1. / gamma**2)\n",
    "\n",
    "p_xi = gamma * m_p * c / beta \n",
    "print(p_xi)\n",
    "px = 2.0e-12\n",
    "py = 0\n",
    "\n",
    "xp =  - px / (p_xi * beta) * (1 / (beta**2) - 1)\n",
    "\n",
    "\n",
    "argument = 1. / compute_momentum_arg(beta, p_xi, px, 0, m_p)\n",
    "\n",
    "\n",
    "relativistic_factor = 1. / (beta ** 2) - 1. \n",
    "\n",
    "x_array = []\n",
    "x0 = 0\n",
    "#x_array.append(x0)\n",
    "x = x0\n",
    "k = 0\n",
    "ds = 1.0\n",
    "while k <= 10.:\n",
    "    \n",
    "    x += - px * relativistic_factor * argument * ds\n",
    "    \n",
    "    x_array.append(x)\n",
    "    k = k + 1\n",
    "\n",
    "\n",
    "s = np.linspace(1, k * ds, k)\n",
    "x2 = x0 + s * xp\n",
    "plt.figure()\n",
    "plt.plot(s, x_array)\n",
    "plt.plot(s, x2)\n",
    "plt.xlabel('s')\n",
    "\n",
    "plt.ylabel('x')\n",
    "\n",
    "\n",
    "plt.show()"
   ]
  },
  {
   "cell_type": "code",
   "execution_count": null,
   "metadata": {},
   "outputs": [],
   "source": [
    "my_kv_beam.gamma\n"
   ]
  },
  {
   "cell_type": "code",
   "execution_count": null,
   "metadata": {},
   "outputs": [],
   "source": []
  }
 ],
 "metadata": {
  "kernelspec": {
   "display_name": "Python 3",
   "language": "python",
   "name": "python3"
  },
  "language_info": {
   "codemirror_mode": {
    "name": "ipython",
    "version": 3
   },
   "file_extension": ".py",
   "mimetype": "text/x-python",
   "name": "python",
   "nbconvert_exporter": "python",
   "pygments_lexer": "ipython3",
   "version": "3.6.4"
  }
 },
 "nbformat": 4,
 "nbformat_minor": 2
}
