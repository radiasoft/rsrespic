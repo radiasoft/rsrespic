{
 "cells": [
  {
   "cell_type": "code",
   "execution_count": 1,
   "metadata": {},
   "outputs": [],
   "source": [
    "## Python package imports \n",
    "import numpy as np\n",
    "import matplotlib\n",
    "import os\n",
    "import scipy.integrate as sint\n",
    "import matplotlib.pyplot as plt\n",
    "\n",
    "## respic imports\n",
    "from rsrespic.fields import fields\n",
    "from rsrespic.particles import particles\n",
    "from rsrespic.solvers import solvers\n",
    "from rsrespic.utilities import constants, diagnostics, utilities\n",
    "\n",
    "## constants \n",
    "q = constants.cgs_constants['q']\n",
    "c = constants.cgs_constants['c']\n",
    "c_mks = c / 100.\n",
    "m_e = constants.cgs_constants['m_e']\n",
    "m_p = constants.cgs_constants['m_p']\n",
    "pi = np.pi\n"
   ]
  },
  {
   "cell_type": "code",
   "execution_count": 2,
   "metadata": {},
   "outputs": [],
   "source": [
    "## Particle definitions and simulation setup\n",
    "sigma_x = 0.2\n",
    "sigma_xp = sigma_x / 100.\n",
    "charge_per_cm_mks = 1.0e-11  # Charge per cm\n",
    "charge_per_meter = charge_per_cm_mks * 100\n",
    "Q = constants.charge_mks_to_cgs(charge_per_cm_mks)\n",
    "\n",
    "n_particles = 10000\n",
    "ds = 1.0\n",
    "s = 0\n",
    "E = 2.0e6\n",
    "\n",
    "## This is where we initialize a gaussian distribuiton\n",
    "distribution = particles.distribution(N = n_particles)\n",
    "distribution.construct_uniform_guassian_2D(sigma_x = sigma_x, sigma_y = sigma_x,\n",
    "                                          sigma_xp = sigma_xp, sigma_yp = sigma_xp)\n"
   ]
  },
  {
   "cell_type": "code",
   "execution_count": 3,
   "metadata": {},
   "outputs": [],
   "source": [
    "## Particle distributions\n",
    "# The first beam is the one that uses the drift map\n",
    "my_gaussian_beam = particles.particles_2D_delta(distribution, bunch_charge = Q, \n",
    "            species_mass = m_p, K_e = E)\n",
    "\n",
    "## Define the fields \n",
    "L_0 = 10. * sigma_x ## Half the domain size\n",
    "L_min = L_0 / 10. ## minimum wavelength to resolve\n",
    "\n",
    "my_fields = fields.cartesian_2D(L_x = L_0, L_y = L_0,\n",
    "    L_x_min = L_min, L_y_min = L_min)\n",
    "\n",
    "## This is where we instantiate the solver\n",
    "field_solver = solvers.field_solver_2D()\n",
    "my_fields.register_solver(field_solver)\n",
    "\n",
    "## Diagnostics \n",
    "respic_diag = diagnostics.bunch_statistics()\n",
    "matrix_diag = diagnostics.bunch_statistics(divergence_coordinates = True)\n"
   ]
  },
  {
   "cell_type": "code",
   "execution_count": 4,
   "metadata": {},
   "outputs": [],
   "source": [
    "## Load the maps\n",
    "maps = solvers.symplectic_maps()\n",
    "\n",
    "## Define stepper\n",
    "def step(fields, particles, ds = ds):\n",
    "    maps.drift(particles, ds = ds / 2.)\n",
    "    maps.space_charge_kick_2D(fields, particles, ds = ds)\n",
    "    maps.drift(particles, ds = ds / 2.)\n"
   ]
  },
  {
   "cell_type": "code",
   "execution_count": 5,
   "metadata": {},
   "outputs": [],
   "source": [
    "## Here we run the simulation, 100 steps using the stepper functions defined in the previous block\n",
    "\n",
    "respic_diag.update(s, my_gaussian_beam)\n",
    "\n",
    "k = 0\n",
    "\n",
    "while k < 100:\n",
    "\n",
    "    step(my_fields, my_gaussian_beam)\n",
    "    \n",
    "    s = s + ds\n",
    "    \n",
    "    respic_diag.update(s, my_gaussian_beam)\n",
    "        \n",
    "    k = k + 1"
   ]
  },
  {
   "cell_type": "code",
   "execution_count": 6,
   "metadata": {},
   "outputs": [],
   "source": [
    "## Analytic model with the same current as rsrespic\n",
    "current = my_gaussian_beam.beta * c_mks * charge_per_meter\n",
    "\n",
    "analytic_solution = utilities.calculate_expansion(current, my_gaussian_beam.beta, my_gaussian_beam.gamma, sigma_x / 100., 1.0e-14,\n",
    "                                                emit = my_gaussian_beam.e_x / 100. , N = 10000, zf = 1.0)\n",
    "\n",
    "analytic_solution = np.asarray(analytic_solution)\n",
    "s_analytic = analytic_solution[:,0] * 100.\n",
    "r_analytic = analytic_solution[:,1] * 100.\n",
    "\n",
    "## Analytic model with zero current to show that space charge is a pertubation\n",
    "analytic_solution_z = utilities.calculate_expansion(0, my_gaussian_beam.beta, my_gaussian_beam.gamma, sigma_x / 100., 1.0e-14,\n",
    "                                                emit = my_gaussian_beam.e_x / 100. , N = 10000, zf = 1.0)\n",
    "\n",
    "analytic_solution_z = np.asarray(analytic_solution_z)\n",
    "s_analytic_z = analytic_solution_z[:,0] * 100.\n",
    "r_analytic_z = analytic_solution_z[:,1] * 100."
   ]
  },
  {
   "cell_type": "code",
   "execution_count": 7,
   "metadata": {},
   "outputs": [
    {
     "data": {
      "image/png": "[encoded data removed]",
      "text/plain": [
       "<Figure size 432x288 with 1 Axes>"
      ]
     },
     "metadata": {},
     "output_type": "display_data"
    }
   ],
   "source": [
    "## Make sure opal has been run in the terminal first\n",
    "x_key = 's'\n",
    "y_key = 'rms_x'\n",
    "\n",
    "plt.figure()\n",
    "respic_diag.plot(x_key, y_key)\n",
    "plt.plot(s_analytic, r_analytic)\n",
    "plt.plot(s_analytic_z, r_analytic_z)\n",
    "plt.legend(['respic', 'analytic', 'zero current'])\n",
    "plt.xlabel(x_key + ' [cm]')\n",
    "plt.ylabel(y_key + ' [cm]')\n",
    "\n",
    "plt.show()"
   ]
  }
 ],
 "metadata": {
  "kernelspec": {
   "display_name": "Python 2",
   "language": "python",
   "name": "python2"
  },
  "language_info": {
   "codemirror_mode": {
    "name": "ipython",
    "version": 2
   },
   "file_extension": ".py",
   "mimetype": "text/x-python",
   "name": "python",
   "nbconvert_exporter": "python",
   "pygments_lexer": "ipython2",
   "version": "2.7.15"
  }
 },
 "nbformat": 4,
 "nbformat_minor": 2
}
