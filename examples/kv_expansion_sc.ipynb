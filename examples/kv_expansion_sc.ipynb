{
 "cells": [
  {
   "cell_type": "code",
   "execution_count": 1,
   "metadata": {},
   "outputs": [],
   "source": [
    "## Python package imports \n",
    "import numpy as np\n",
    "import matplotlib\n",
    "import scipy.integrate as sint\n",
    "import matplotlib.pyplot as plt\n",
    "\n",
    "## respic imports\n",
    "from rsrespic.fields import fields\n",
    "from rsrespic.particles import particles\n",
    "from rsrespic.solvers import solvers\n",
    "from rsrespic.utilities import constants, diagnostics, utilities\n",
    "\n",
    "## rsbeams imports\n",
    "from rsbeams.rsptcls import bunch\n",
    "\n",
    "## constants \n",
    "q = constants.cgs_constants['q']\n",
    "c = constants.cgs_constants['c']\n",
    "c_mks = c / 100.\n",
    "m_e = constants.cgs_constants['m_e']\n",
    "m_p = constants.cgs_constants['m_p']\n",
    "pi = np.pi\n"
   ]
  },
  {
   "cell_type": "markdown",
   "metadata": {},
   "source": [
    "# Note that this example requires rsbeams"
   ]
  },
  {
   "cell_type": "code",
   "execution_count": 2,
   "metadata": {},
   "outputs": [],
   "source": [
    "## Particle definitions \n",
    "emit = 1.0e-6\n",
    "charge_per_cm_mks = 1.0e-10\n",
    "charge_per_meter = charge_per_cm_mks * 100\n",
    "Q = constants.charge_mks_to_cgs(charge_per_cm_mks)\n",
    "\n",
    "n_particles = 10000\n",
    "ds = 1.0\n",
    "s = 0.0\n",
    "E = 2.0e6\n",
    "\n",
    "\n",
    "## This is where we initialize a KV distribuiton\n",
    "newKVBunch = bunch.StandardBunch(n_particles, dist='KV', emitx = emit, emity = emit)\n",
    "newKVBunch.set_longitudinal_coordinates(dpop=0.00) #here we reset the dpop value\n",
    "newKVBunch.set_transverse_coordinates()\n",
    "\n",
    "new_distribution = particles.distribution()\n",
    "new_distribution.type = 'KV'\n",
    "new_distribution.e_x = newKVBunch.emitx\n",
    "new_distribution.e_y = newKVBunch.emity\n",
    "new_distribution.N = newKVBunch.npart\n",
    "new_distribution.x = newKVBunch.particles[:,0] * 100.\n",
    "new_distribution.xp = newKVBunch.particles[:,1]\n",
    "new_distribution.y = newKVBunch.particles[:,2] * 100.\n",
    "new_distribution.yp = newKVBunch.particles[:,3]\n",
    "new_distribution.z = newKVBunch.particles[:,4]\n",
    "new_distribution.pz = newKVBunch.particles[:,5]\n",
    "\n",
    "sigma_x = np.max(np.sqrt(new_distribution.x**2 + new_distribution.y**2))\n",
    "\n",
    "\n",
    "## Particle distributions\n",
    "my_kv_beam = particles.particles_2D_delta(new_distribution, # dx_tent = 1 * L_min, dy_tent = 1 * L_min, \n",
    "    bunch_charge = Q, species_charge = q, species_mass = m_e, K_e = E)\n",
    "\n",
    "\n",
    "## Define the fields \n",
    "L_0 = 5. * sigma_x ## Half the domain size\n",
    "L_min = L_0 / 10. ## minimum wavelength to resolve\n",
    "\n",
    "my_fields = fields.cartesian_2D(L_x = L_0, L_y = L_0,\n",
    "    L_x_min = L_min, L_y_min = L_min)\n",
    "\n",
    "## This is where we instantiate the solver\n",
    "field_solver = solvers.field_solver_2D()\n",
    "my_fields.register_solver(field_solver)\n",
    "\n",
    "\n",
    "## instantiate the diagnostics \n",
    "ptcl_diag = diagnostics.bunch_statistics()\n"
   ]
  },
  {
   "cell_type": "code",
   "execution_count": 3,
   "metadata": {},
   "outputs": [],
   "source": [
    "## Load the maps and define the stepper\n",
    "maps = solvers.symplectic_maps()\n",
    "\n",
    "## Define steppers\n",
    "def step(particles, fields, ds = ds):\n",
    "    maps.drift(particles, ds = ds / 2.)\n",
    "    maps.space_charge_kick_2D(fields, particles, ds = ds)\n",
    "    maps.drift(particles, ds = ds / 2.)\n"
   ]
  },
  {
   "cell_type": "code",
   "execution_count": 4,
   "metadata": {},
   "outputs": [],
   "source": [
    "## Here we run the simulation, 1000 steps using the stepper functions defined in the previous block\n",
    "ptcl_diag.update(s, my_kv_beam)\n",
    "\n",
    "k = 0\n",
    "\n",
    "while k < 100:\n",
    "\n",
    "    step(my_kv_beam, my_fields)\n",
    "    \n",
    "    s = s + ds\n",
    "    \n",
    "    ptcl_diag.update(s, my_kv_beam)\n",
    "        \n",
    "    k = k + 1"
   ]
  },
  {
   "cell_type": "code",
   "execution_count": 5,
   "metadata": {},
   "outputs": [],
   "source": [
    "## Compute analytic expansion for benchmarkiung. \n",
    "\n",
    "current = my_kv_beam.beta * c_mks * charge_per_meter\n",
    "\n",
    "s_array = ptcl_diag.get_parameter('s') / 100.\n",
    "\n",
    "r_analyitic = utilities.round_beam_expansion(s_array, 2. * newKVBunch.emit, sigma_x/100.,\n",
    "        current, my_kv_beam.gamma, my_kv_beam.m_0)\n",
    "\n",
    "r_zero_current = utilities.round_beam_expansion(s_array, 2. * newKVBunch.emit, sigma_x/100.,\n",
    "        0.0, my_kv_beam.gamma, my_kv_beam.m_0)\n"
   ]
  },
  {
   "cell_type": "code",
   "execution_count": 6,
   "metadata": {},
   "outputs": [
    {
     "data": {
      "image/png": "[encoded data removed]",
      "text/plain": [
       "<Figure size 432x288 with 1 Axes>"
      ]
     },
     "metadata": {},
     "output_type": "display_data"
    }
   ],
   "source": [
    "## Plotting \n",
    "\n",
    "x_key = 's'\n",
    "y_key = 'r_beam'\n",
    "\n",
    "plt.figure()\n",
    "ptcl_diag.plot(x_key, y_key)\n",
    "plt.plot(s_array * 100, r_analyitic[:,0] * 100.)\n",
    "plt.plot(s_array * 100, r_zero_current[:,0] * 100.)\n",
    "plt.xlabel('s [cm]')\n",
    "plt.ylabel('beam radius [cm]')\n",
    "plt.legend(['respic', 'analytic', 'zero_current'])\n",
    "plt.savefig('respic_benchmark_kv.pdf')\n",
    "\n",
    "plt.show()\n",
    "\n"
   ]
  },
  {
   "cell_type": "code",
   "execution_count": 7,
   "metadata": {},
   "outputs": [
    {
     "data": {
      "text/plain": [
       "2.9351903623853417"
      ]
     },
     "execution_count": 7,
     "metadata": {},
     "output_type": "execute_result"
    }
   ],
   "source": [
    "current"
   ]
  },
  {
   "cell_type": "code",
   "execution_count": 8,
   "metadata": {},
   "outputs": [
    {
     "data": {
      "text/plain": [
       "4e-06"
      ]
     },
     "execution_count": 8,
     "metadata": {},
     "output_type": "execute_result"
    }
   ],
   "source": [
    "newKVBunch.emit"
   ]
  },
  {
   "cell_type": "code",
   "execution_count": null,
   "metadata": {},
   "outputs": [],
   "source": []
  }
 ],
 "metadata": {
  "kernelspec": {
   "display_name": "Python 2",
   "language": "python",
   "name": "python2"
  },
  "language_info": {
   "codemirror_mode": {
    "name": "ipython",
    "version": 2
   },
   "file_extension": ".py",
   "mimetype": "text/x-python",
   "name": "python",
   "nbconvert_exporter": "python",
   "pygments_lexer": "ipython2",
   "version": "2.7.15"
  }
 },
 "nbformat": 4,
 "nbformat_minor": 2
}
