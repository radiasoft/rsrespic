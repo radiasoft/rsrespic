{
 "cells": [
  {
   "cell_type": "code",
   "execution_count": 1,
   "metadata": {},
   "outputs": [],
   "source": [
    "## Python package imports \n",
    "import numpy as np\n",
    "import matplotlib\n",
    "import scipy.integrate as sint\n",
    "import matplotlib.pyplot as plt\n",
    "\n",
    "## respic imports\n",
    "from rsrespic.fields import fields\n",
    "from rsrespic.particles import particles\n",
    "from rsrespic.solvers import solvers\n",
    "from rsrespic.utilities import constants, diagnostics, utilities\n",
    "\n",
    "## rsbeams imports\n",
    "from rsbeams.rsptcls import bunch\n",
    "\n",
    "## constants \n",
    "q = constants.cgs_constants['q']\n",
    "c = constants.cgs_constants['c']\n",
    "m_e = constants.cgs_constants['m_e']\n",
    "m_p = constants.cgs_constants['m_p']\n",
    "pi = np.pi\n"
   ]
  },
  {
   "cell_type": "markdown",
   "metadata": {},
   "source": [
    "# Note that this example requires rsbeams"
   ]
  },
  {
   "cell_type": "code",
   "execution_count": 14,
   "metadata": {},
   "outputs": [],
   "source": [
    "## Particle definitions \n",
    "Q_mks = 1.0e-50\n",
    "ds = 0.1\n",
    "s = 0.\n",
    "emit = 4.0e-6\n",
    "Q = constants.charge_mks_to_cgs(Q_mks)\n",
    "\n",
    "\n",
    "## This is where we initialize a KV distribuiton\n",
    "npart = 10000\n",
    "newKVBunch = bunch.StandardBunch(npart, dist='KV', emitx = emit, emity = emit)\n",
    "newKVBunch.set_longitudinal_coordinates(dpop=0.00) #here we reset the dpop value\n",
    "newKVBunch.set_transverse_coordinates()\n",
    "\n",
    "new_distribution = particles.distribution()\n",
    "new_distribution.type = 'KV'\n",
    "new_distribution.e_x = newKVBunch.emitx\n",
    "new_distribution.e_y = newKVBunch.emity\n",
    "new_distribution.N = newKVBunch.npart\n",
    "new_distribution.x = newKVBunch.particles[:,0] * 100.\n",
    "new_distribution.xp = newKVBunch.particles[:,1]\n",
    "new_distribution.y = newKVBunch.particles[:,2] * 100.\n",
    "new_distribution.yp = newKVBunch.particles[:,3]\n",
    "new_distribution.z = newKVBunch.particles[:,4]\n",
    "new_distribution.pz = newKVBunch.particles[:,5]\n",
    "\n",
    "sigma_x = np.max(np.sqrt(new_distribution.x**2 + new_distribution.y**2))\n",
    "\n",
    "\n",
    "## This is where we set the energy\n",
    "E = 0.2e6\n",
    "\n",
    "## Particle distributions\n",
    "my_kv_beam = particles.particles_2D_delta(new_distribution, # dx_tent = 1 * L_min, dy_tent = 1 * L_min, \n",
    "    bunch_charge = Q, species_charge = q, species_mass = m_e, K_e = E)\n",
    "\n",
    "# This is for the matrix map\n",
    "my_kv_beam_matrix = new_distribution\n",
    "\n",
    "## instantiate the diagnostics \n",
    "respic_diag = diagnostics.bunch_statistics()\n",
    "matrix_diag = diagnostics.bunch_statistics(divergence_coordinates = True)\n",
    "\n"
   ]
  },
  {
   "cell_type": "code",
   "execution_count": 15,
   "metadata": {},
   "outputs": [],
   "source": [
    "## Load the maps and define the stepper\n",
    "maps = solvers.symplectic_maps()\n",
    "\n",
    "## Define steppers\n",
    "def step(particles, ds = ds):\n",
    "    maps.drift(particles, ds = ds)\n",
    "\n",
    "    \n",
    "def step_matrix(particles, ds = ds):\n",
    "    particles.x = particles.x + ds * particles.xp\n",
    "    particles.y = particles.y + ds * particles.yp"
   ]
  },
  {
   "cell_type": "code",
   "execution_count": 16,
   "metadata": {},
   "outputs": [],
   "source": [
    "## Here we run the simulation, 1000 steps using the stepper functions defined in the previous block\n",
    "respic_diag.update(s, my_kv_beam)\n",
    "matrix_diag.update(s, my_kv_beam_matrix)\n",
    "\n",
    "k = 0\n",
    "\n",
    "while k < 1000:\n",
    "\n",
    "    step(my_kv_beam)\n",
    "    step_matrix(my_kv_beam_matrix)\n",
    "    \n",
    "    s = s + ds\n",
    "    \n",
    "    respic_diag.update(s, my_kv_beam)\n",
    "    matrix_diag.update(s, my_kv_beam_matrix)\n",
    "    k = k + 1"
   ]
  },
  {
   "cell_type": "code",
   "execution_count": 24,
   "metadata": {},
   "outputs": [
    {
     "data": {
      "image/png": "[encoded data removed]",
      "text/plain": [
       "<Figure size 432x288 with 1 Axes>"
      ]
     },
     "metadata": {},
     "output_type": "display_data"
    }
   ],
   "source": [
    "## Plotting \n",
    "\n",
    "x_key = 's'\n",
    "y_key = 'rms_x'\n",
    "\n",
    "plt.figure()\n",
    "respic_diag.plot(x_key, y_key)\n",
    "matrix_diag.plot(x_key, y_key)\n",
    "plt.xlabel(x_key)\n",
    "plt.ylabel(y_key)\n",
    "plt.legend(['respic', 'matrix'])\n",
    "plt.show()"
   ]
  },
  {
   "cell_type": "code",
   "execution_count": null,
   "metadata": {},
   "outputs": [],
   "source": []
  },
  {
   "cell_type": "code",
   "execution_count": null,
   "metadata": {},
   "outputs": [],
   "source": []
  }
 ],
 "metadata": {
  "kernelspec": {
   "display_name": "Python 2",
   "language": "python",
   "name": "python2"
  },
  "language_info": {
   "codemirror_mode": {
    "name": "ipython",
    "version": 2
   },
   "file_extension": ".py",
   "mimetype": "text/x-python",
   "name": "python",
   "nbconvert_exporter": "python",
   "pygments_lexer": "ipython2",
   "version": "2.7.15"
  }
 },
 "nbformat": 4,
 "nbformat_minor": 2
}
